{
  "nbformat": 4,
  "nbformat_minor": 0,
  "metadata": {
    "colab": {
      "name": "Twitter Sentiment Analysis Code.ipynb",
      "provenance": [],
      "collapsed_sections": []
    },
    "kernelspec": {
      "name": "python3",
      "display_name": "Python 3"
    },
    "language_info": {
      "name": "python"
    }
  },
  "cells": [
    {
      "cell_type": "markdown",
      "metadata": {
        "id": "WoJFkS2aKKe7"
      },
      "source": [
        "# **Twitter Sentiment Analysis**"
      ]
    },
    {
      "cell_type": "code",
      "metadata": {
        "id": "uOrQrlZUDONs"
      },
      "source": [
        "# Link of the CSV File: https://drive.google.com/file/d/1774V7CLtvKHEyr1aHJK1JzO40WhmMLIB/view?usp=sharing"
      ],
      "execution_count": 1,
      "outputs": []
    },
    {
      "cell_type": "code",
      "metadata": {
        "id": "ZZJW5MDJKdLI",
        "colab": {
          "base_uri": "https://localhost:8080/"
        },
        "outputId": "2ae7997d-381c-455d-b77d-f981c11b608a"
      },
      "source": [
        "# Importing Required Libraries\n",
        "import matplotlib.pyplot as plt\n",
        "import seaborn as sns\n",
        "import numpy as np\n",
        "import pandas as pd\n",
        "\n",
        "import re\n",
        "import string\n",
        "\n",
        "import nltk\n",
        "from nltk.corpus import stopwords\n",
        "from nltk.tokenize import word_tokenize\n",
        "from nltk.stem import PorterStemmer\n",
        "from nltk.stem import WordNetLemmatizer\n",
        "\n",
        "from sklearn.feature_extraction.text import TfidfVectorizer\n",
        "from sklearn.model_selection import train_test_split\n",
        "\n",
        "from sklearn.metrics import accuracy_score\n",
        "from sklearn.metrics import confusion_matrix\n",
        "\n",
        "from sklearn.naive_bayes import MultinomialNB\n",
        "from sklearn.linear_model import LogisticRegression\n",
        "from sklearn.svm import SVC\n",
        "from xgboost import XGBClassifier\n",
        "\n",
        "from warnings import simplefilter\n",
        "from sklearn.exceptions import ConvergenceWarning\n",
        "\n",
        "nltk.download('stopwords')\n",
        "sw=set(stopwords.words('english'))"
      ],
      "execution_count": 2,
      "outputs": [
        {
          "output_type": "stream",
          "text": [
            "[nltk_data] Downloading package stopwords to /root/nltk_data...\n",
            "[nltk_data]   Package stopwords is already up-to-date!\n"
          ],
          "name": "stdout"
        }
      ]
    },
    {
      "cell_type": "code",
      "metadata": {
        "id": "6a2wMpVdMjCy"
      },
      "source": [
        "# Function for Loading the Dataset.\n",
        "\n",
        "def load_dataset(filename, cols):\n",
        "    dataset=pd.read_csv(filename, encoding='latin-1')\n",
        "    dataset.columns=cols\n",
        "    return dataset"
      ],
      "execution_count": 3,
      "outputs": []
    },
    {
      "cell_type": "code",
      "metadata": {
        "id": "yYX6reIGN-ID"
      },
      "source": [
        "# Function for Removing the Unwanted Columns in the Dataset.\n",
        "\n",
        "def remove_unwanted_cols(dataset, cols):\n",
        "    for col in cols:\n",
        "        del dataset[col]\n",
        "    return dataset"
      ],
      "execution_count": 4,
      "outputs": []
    },
    {
      "cell_type": "code",
      "metadata": {
        "id": "4RB7fnRyOOuT"
      },
      "source": [
        "# Function for Pre-Processing the Tweet Texts.\n",
        "\n",
        "def preprocess_tweet_text(tweet):\n",
        "    tweet.lower()\n",
        "    # Removing Links (or) URL's.\n",
        "    tweet=re.sub(r\"http\\S+|www\\S+|https\\S+\", '', tweet, flags=re.MULTILINE)\n",
        "    # Removing User @ References and '#' from Tweet.\n",
        "    tweet=re.sub(r'\\@\\w+|\\#', '', tweet)\n",
        "    # Removing Punctuations.\n",
        "    tweet=tweet.translate(str.maketrans('', '', string.punctuation))\n",
        "    # Removeing Stopwords.\n",
        "    tweet_tokens=word_tokenize(tweet)\n",
        "    filtered_words=[w for w in tweet_tokens if not w in sw]\n",
        "    return \" \".join(filtered_words)"
      ],
      "execution_count": 5,
      "outputs": []
    },
    {
      "cell_type": "code",
      "metadata": {
        "id": "ggPM1SzUOxSj"
      },
      "source": [
        "# Function for Vectorizing Data.\n",
        "\n",
        "def get_feature_vector(train_fit):\n",
        "    vector=TfidfVectorizer(sublinear_tf=True)\n",
        "    vector.fit(train_fit)\n",
        "    return vector"
      ],
      "execution_count": 6,
      "outputs": []
    },
    {
      "cell_type": "code",
      "metadata": {
        "id": "aC_QlelsPEO4"
      },
      "source": [
        "# Function for Separating Tweets based on their Sentiment(Positive,Neutral,Negative).\n",
        "\n",
        "def int_to_string(sentiment):\n",
        "    if sentiment==0:\n",
        "        return \"Negative\"\n",
        "    elif sentiment==2:\n",
        "        return \"Neutral\"\n",
        "    else:\n",
        "        return \"Positive\""
      ],
      "execution_count": 7,
      "outputs": []
    },
    {
      "cell_type": "code",
      "metadata": {
        "id": "HLQvYg0CPgx-",
        "colab": {
          "base_uri": "https://localhost:8080/"
        },
        "outputId": "a5165d9c-85e3-4078-a520-5e0175a525b5"
      },
      "source": [
        "import nltk\n",
        "nltk.download('punkt')\n",
        "# Loading Dataset.\n",
        "dataset=load_dataset(\"/content/drive/MyDrive/Training.csv\", ['target', 't_id', 'created_at', 'query', 'user', 'text'])\n",
        "# Removing Unwanted Columns from Dataset.\n",
        "n_dataset=remove_unwanted_cols(dataset, ['t_id', 'created_at', 'query', 'user'])\n",
        "#Pre-Processing the Data.\n",
        "dataset.text=dataset['text'].apply(preprocess_tweet_text)\n",
        "# Same tf Vector will be used for Testing Sentiments on Unseen Trending Data.\n",
        "tf_vector=get_feature_vector(np.array(dataset.iloc[:, 1]).ravel())\n",
        "X=tf_vector.transform(np.array(dataset.iloc[:, 1]).ravel())\n",
        "y=np.array(dataset.iloc[:, 0]).ravel()\n",
        "# Spliting the Dataset into Training Data and Testing Data.\n",
        "X_train, X_test, y_train, y_test=train_test_split(X, y, test_size=0.3, random_state=30)"
      ],
      "execution_count": 8,
      "outputs": [
        {
          "output_type": "stream",
          "text": [
            "[nltk_data] Downloading package punkt to /root/nltk_data...\n",
            "[nltk_data]   Package punkt is already up-to-date!\n"
          ],
          "name": "stdout"
        }
      ]
    },
    {
      "cell_type": "code",
      "metadata": {
        "id": "kV2j_Li6SM7c",
        "colab": {
          "base_uri": "https://localhost:8080/",
          "height": 335
        },
        "outputId": "847958d4-1833-4483-bc03-bed2286a9dca"
      },
      "source": [
        "# Training Naive Bayes Model.\n",
        "\n",
        "NB_model=MultinomialNB()\n",
        "NB_model.fit(X_train, y_train)\n",
        "y_predict_nb=NB_model.predict(X_test)\n",
        "print(\"Accuracy:\",(accuracy_score(y_test, y_predict_nb))*100,\"%\")\n",
        "cm=confusion_matrix(y_test,y_predict_nb)\n",
        "print(cm)\n",
        "sns.heatmap(cm/np.sum(cm),fmt='.3%',annot=True)"
      ],
      "execution_count": 9,
      "outputs": [
        {
          "output_type": "stream",
          "text": [
            "Accuracy: 76.82291666666666 %\n",
            "[[188303  52164]\n",
            " [ 59086 180447]]\n"
          ],
          "name": "stdout"
        },
        {
          "output_type": "execute_result",
          "data": {
            "text/plain": [
              "<matplotlib.axes._subplots.AxesSubplot at 0x7f3b1ca16a50>"
            ]
          },
          "metadata": {
            "tags": []
          },
          "execution_count": 9
        },
        {
          "output_type": "display_data",
          "data": {
            "image/png": "[encoded data removed]",
            "text/plain": [
              "<Figure size 432x288 with 2 Axes>"
            ]
          },
          "metadata": {
            "tags": [],
            "needs_background": "light"
          }
        }
      ]
    },
    {
      "cell_type": "code",
      "metadata": {
        "id": "qTeQL7vDSN_l",
        "colab": {
          "base_uri": "https://localhost:8080/",
          "height": 338
        },
        "outputId": "1d44cf7d-8f38-4ef7-ea0a-a12dbf8fb0c0"
      },
      "source": [
        "# Training Logistics Regression Model.\n",
        "\n",
        "LR_model=LogisticRegression(solver='lbfgs')\n",
        "LR_model.fit(X_train, y_train)\n",
        "simplefilter(\"ignore\", category=ConvergenceWarning)\n",
        "y_predict_lr=LR_model.predict(X_test)\n",
        "print(\"Accuracy:\",(accuracy_score(y_test, y_predict_lr))*100,\"%\")\n",
        "cm=confusion_matrix(y_test,y_predict_lr)\n",
        "print(cm)\n",
        "sns.heatmap(cm/np.sum(cm),fmt='.3%',annot=True)"
      ],
      "execution_count": 11,
      "outputs": [
        {
          "output_type": "stream",
          "text": [
            "Accuracy: 78.76645833333333 %\n",
            "[[184251  56216]\n",
            " [ 45705 193828]]\n"
          ],
          "name": "stdout"
        },
        {
          "output_type": "execute_result",
          "data": {
            "text/plain": [
              "<matplotlib.axes._subplots.AxesSubplot at 0x7f3b1c49afd0>"
            ]
          },
          "metadata": {
            "tags": []
          },
          "execution_count": 11
        },
        {
          "output_type": "display_data",
          "data": {
            "image/png": "[encoded data removed]",
            "text/plain": [
              "<Figure size 432x288 with 2 Axes>"
            ]
          },
          "metadata": {
            "tags": [],
            "needs_background": "light"
          }
        }
      ]
    }
  ]
}